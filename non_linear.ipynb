{
 "cells": [
  {
   "cell_type": "markdown",
   "id": "a870b578",
   "metadata": {},
   "source": [
    "**Tracage d'une fonction**"
   ]
  },
  {
   "cell_type": "code",
   "execution_count": 21,
   "id": "8339ab3d",
   "metadata": {},
   "outputs": [],
   "source": [
    "import numpy as np\n",
    "import matplotlib.pyplot as plt"
   ]
  },
  {
   "cell_type": "code",
   "execution_count": 22,
   "id": "96c5f8a3",
   "metadata": {
    "scrolled": true
   },
   "outputs": [
    {
     "data": {
      "image/png": "[encoded data removed]",
      "text/plain": [
       "<Figure size 432x288 with 1 Axes>"
      ]
     },
     "metadata": {
      "needs_background": "light"
     },
     "output_type": "display_data"
    }
   ],
   "source": [
    "min = 0\n",
    "max = 2*pi\n",
    "\n",
    "def f(x):\n",
    "    return np.sin(x)\n",
    "\n",
    "def fp(x):\n",
    "    return np.cos(x)\n",
    "\n",
    "X = np.linspace(min, max, 100)\n",
    "Y = [f(x) for x in X]\n",
    "\n",
    "plt.plot(X, Y, label='sin(x)',c='blue')\n",
    "plt.plot(X, [0 for x in X], label='y=0', c='red')\n",
    "plt.legend()\n",
    "plt.show()"
   ]
  },
  {
   "cell_type": "markdown",
   "id": "94cac78f",
   "metadata": {},
   "source": [
    "**Recherche y=0 via dichotomie**"
   ]
  },
  {
   "cell_type": "code",
   "execution_count": 23,
   "id": "1ca40947",
   "metadata": {},
   "outputs": [],
   "source": [
    "x = [1, 2, 3, 4, 5, 8, 13, 15]\n",
    "y = [0, 5, 2, 1, 4, 4, 6, 8]"
   ]
  },
  {
   "cell_type": "code",
   "execution_count": 24,
   "id": "5082936b",
   "metadata": {},
   "outputs": [],
   "source": [
    "def Dichotomie(f,a,b,Nb):\n",
    "    x=np.zeros(Nb+1)\n",
    "    y=np.zeros(Nb+1)\n",
    "    x[0] = a\n",
    "    y[0] = b\n",
    "    for n in range(Nb):\n",
    "        c = (x[n] + y[n])/2\n",
    "        if f(x[n])*f(c)<0:\n",
    "            x[n+1]=x[n]\n",
    "            y[n+1]=c\n",
    "        if f(c)*f(y[n])<0:\n",
    "            x[n+1]=c\n",
    "            y[n+1]=y[n]\n",
    "    return x[-1]"
   ]
  },
  {
   "cell_type": "code",
   "execution_count": 25,
   "id": "a20d9125",
   "metadata": {},
   "outputs": [
    {
     "name": "stdout",
     "output_type": "stream",
     "text": [
      "-0.016592653589793116\n",
      "[-0.14159265358979312, -0.016592653589793116, -0.000967653589793116]\n"
     ]
    }
   ],
   "source": [
    "print(Dichotomie(f,3,4,5)-np.pi)\n",
    "print([Dichotomie(f,3,4,N)-np.pi for N in [2,5,8]])"
   ]
  },
  {
   "cell_type": "markdown",
   "id": "c5aabb7f",
   "metadata": {},
   "source": [
    "**Recherche y=0 via Newton**"
   ]
  },
  {
   "cell_type": "code",
   "execution_count": 26,
   "id": "883021c5",
   "metadata": {},
   "outputs": [],
   "source": [
    "def Newton(f,fp,x0,Nb):\n",
    "    xn=x0\n",
    "    for i in range(Nb):\n",
    "        xnp1=xn-f(xn)/fp(xn)\n",
    "        xn=xnp1\n",
    "    return xn\n",
    "\n",
    "def Newton1(f,fp,x0,Nb):\n",
    "    x=np.zeros(Nb+1)\n",
    "    x[0]=x0\n",
    "    for n in range(Nb):\n",
    "        x[n+1]=x[n]-f(x[n])/fp(x[n])\n",
    "    return x[-1]"
   ]
  },
  {
   "cell_type": "code",
   "execution_count": 28,
   "id": "0f34a520",
   "metadata": {},
   "outputs": [
    {
     "name": "stdout",
     "output_type": "stream",
     "text": [
      "3.141592653589793\n",
      "3.141592653589793\n"
     ]
    }
   ],
   "source": [
    "print(Newton(f,fp,3,5))\n",
    "print(Newton1(f,fp,3,5))"
   ]
  }
 ],
 "metadata": {
  "kernelspec": {
   "display_name": "Python 3",
   "language": "python",
   "name": "python3"
  },
  "language_info": {
   "codemirror_mode": {
    "name": "ipython",
    "version": 3
   },
   "file_extension": ".py",
   "mimetype": "text/x-python",
   "name": "python",
   "nbconvert_exporter": "python",
   "pygments_lexer": "ipython3",
   "version": "3.8.8"
  }
 },
 "nbformat": 4,
 "nbformat_minor": 5
}
