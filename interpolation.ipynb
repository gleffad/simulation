{
 "cells": [
  {
   "cell_type": "code",
   "execution_count": 3,
   "id": "994b655c-9c17-4cec-89f6-63601497cf4a",
   "metadata": {},
   "outputs": [],
   "source": [
    "import numpy as np\n",
    "import numpy.linalg as linalg\n",
    "import matplotlib.pyplot as plt"
   ]
  },
  {
   "cell_type": "code",
   "execution_count": 4,
   "id": "74821216-2b90-441e-956f-517ff45ef367",
   "metadata": {},
   "outputs": [],
   "source": [
    "x = [1, 2, 3, 4, 5, 8, 13, 15]\n",
    "y = [0, 5, 2, 1, 4, 4, 6, 8]"
   ]
  },
  {
   "cell_type": "code",
   "execution_count": 5,
   "id": "0dff6919-213e-47ba-a839-991271949dfc",
   "metadata": {},
   "outputs": [
    {
     "data": {
      "text/plain": [
       "<matplotlib.collections.PathCollection at 0x15a856e0fd0>"
      ]
     },
     "execution_count": 5,
     "metadata": {},
     "output_type": "execute_result"
    },
    {
     "data": {
      "image/png": "[encoded data removed]",
      "text/plain": [
       "<Figure size 432x288 with 1 Axes>"
      ]
     },
     "metadata": {
      "needs_background": "light"
     },
     "output_type": "display_data"
    }
   ],
   "source": [
    "plt.scatter(x ,y)"
   ]
  },
  {
   "cell_type": "markdown",
   "id": "ca78cabb-4d60-4499-a871-cc72809bf33e",
   "metadata": {},
   "source": [
    "# <ins>**Avec 2 points (matrice)**</ins>"
   ]
  },
  {
   "cell_type": "code",
   "execution_count": 6,
   "id": "f5837073-5549-4da9-9139-3c09e2708def",
   "metadata": {},
   "outputs": [],
   "source": [
    "A = [1, x[0]], [1, x[1]]\n",
    "b = [y[0], y[1]]"
   ]
  },
  {
   "cell_type": "code",
   "execution_count": 7,
   "id": "350c92ff-af39-4b0a-b484-691c68210def",
   "metadata": {},
   "outputs": [],
   "source": [
    "[a0, a1] = linalg.solve(A, b)"
   ]
  },
  {
   "cell_type": "code",
   "execution_count": 8,
   "id": "94d8d093-4a1a-4e4f-8fba-a315a9af1346",
   "metadata": {},
   "outputs": [],
   "source": [
    "def P1(x):\n",
    "    return a0 + a1 * x"
   ]
  },
  {
   "cell_type": "code",
   "execution_count": 9,
   "id": "5744baae-5655-4c99-b07e-0e593c9d612c",
   "metadata": {},
   "outputs": [],
   "source": [
    "Vx = np.linspace(min(x), max(x), 51)"
   ]
  },
  {
   "cell_type": "code",
   "execution_count": 10,
   "id": "b3e362bf-5107-4859-a008-f88945dddb08",
   "metadata": {},
   "outputs": [
    {
     "data": {
      "image/png": "[encoded data removed]",
      "text/plain": [
       "<Figure size 432x288 with 1 Axes>"
      ]
     },
     "metadata": {
      "needs_background": "light"
     },
     "output_type": "display_data"
    }
   ],
   "source": [
    "plt.plot(Vx, P1(Vx))\n",
    "plt.scatter(x, y)\n",
    "plt.show()"
   ]
  },
  {
   "cell_type": "markdown",
   "id": "5a0496c2-aeb6-4c00-b50c-b50b7be65e3a",
   "metadata": {},
   "source": [
    "# <ins>**Avec 3 points (matrice)**</ins>"
   ]
  },
  {
   "cell_type": "code",
   "execution_count": 11,
   "id": "d1e27a32-a263-4886-a984-b4dab6f652c2",
   "metadata": {},
   "outputs": [],
   "source": [
    "A = [1, x[0], x[0]**2], [1, x[1], x[1]**2], [1, x[2], x[2]**2]\n",
    "b = [y[0], y[1], y[2]]"
   ]
  },
  {
   "cell_type": "code",
   "execution_count": 12,
   "id": "bcc6d3d1-5ff5-4a7f-9f1d-5734b41acb09",
   "metadata": {},
   "outputs": [],
   "source": [
    "[a0, a1, a2] = linalg.solve(A, b)"
   ]
  },
  {
   "cell_type": "code",
   "execution_count": 13,
   "id": "b7da9195-1244-472f-898d-fd610636691a",
   "metadata": {},
   "outputs": [],
   "source": [
    "def P2(x):\n",
    "    return a0 + a1 * x + a2 * x**2"
   ]
  },
  {
   "cell_type": "code",
   "execution_count": 14,
   "id": "f55e6e25-75b2-43b3-a392-5a28b70d9b20",
   "metadata": {},
   "outputs": [],
   "source": [
    "Vx = np.linspace(min(x), max(x), 50)"
   ]
  },
  {
   "cell_type": "code",
   "execution_count": 15,
   "id": "4b782687-5847-4e43-ac4f-b92ee54ae2d1",
   "metadata": {},
   "outputs": [
    {
     "data": {
      "image/png": "[encoded data removed]",
      "text/plain": [
       "<Figure size 432x288 with 1 Axes>"
      ]
     },
     "metadata": {
      "needs_background": "light"
     },
     "output_type": "display_data"
    }
   ],
   "source": [
    "plt.plot(Vx, P2(Vx))\n",
    "plt.scatter(x , y)\n",
    "plt.show()"
   ]
  },
  {
   "cell_type": "markdown",
   "id": "0448918e-fb11-45fc-9f56-7399b8930549",
   "metadata": {},
   "source": [
    "# <ins>**Avec N points (matrice)**</ins>"
   ]
  },
  {
   "cell_type": "code",
   "execution_count": 16,
   "id": "cee895be-abf1-4d58-88a4-0332a12f4679",
   "metadata": {},
   "outputs": [
    {
     "name": "stdout",
     "output_type": "stream",
     "text": [
      "[[1, 1, 1, 1, 1, 1, 1, 1], [1, 2, 4, 8, 16, 32, 64, 128], [1, 3, 9, 27, 81, 243, 729, 2187], [1, 4, 16, 64, 256, 1024, 4096, 16384], [1, 5, 25, 125, 625, 3125, 15625, 78125], [1, 8, 64, 512, 4096, 32768, 262144, 2097152], [1, 13, 169, 2197, 28561, 371293, 4826809, 62748517], [1, 15, 225, 3375, 50625, 759375, 11390625, 170859375]]\n"
     ]
    }
   ],
   "source": [
    "ordre = len(x)\n",
    "A = [[i**j for j in range(ordre)] for i in x]\n",
    "print(A)"
   ]
  },
  {
   "cell_type": "code",
   "execution_count": 17,
   "id": "dcd7c696-6f28-4984-9e84-d591ebc52daa",
   "metadata": {},
   "outputs": [
    {
     "name": "stdout",
     "output_type": "stream",
     "text": [
      "[0, 5, 2, 1, 4, 4, 6, 8]\n"
     ]
    }
   ],
   "source": [
    "b = y\n",
    "print(b)"
   ]
  },
  {
   "cell_type": "code",
   "execution_count": 18,
   "id": "9ad82e8c-dd68-45d1-b322-156892878e97",
   "metadata": {},
   "outputs": [],
   "source": [
    "sol = linalg.solve(A, b)"
   ]
  },
  {
   "cell_type": "code",
   "execution_count": 19,
   "id": "1aaf0466-fffd-4824-bc5c-d202960b998e",
   "metadata": {},
   "outputs": [],
   "source": [
    "def Pn(x):\n",
    "    res = []\n",
    "    for x in x:\n",
    "        el = 0\n",
    "        for i in range(ordre):\n",
    "            el += sol[i] * x**i\n",
    "        res.append(el)\n",
    "        \n",
    "    return res\n",
    "\n",
    "# autre solution\n",
    "# return np.sum([Sol[i]*x**i for i in range(n)])"
   ]
  },
  {
   "cell_type": "code",
   "execution_count": 20,
   "id": "01ab869c-e0bd-4229-845e-4da4ea0e2e9d",
   "metadata": {},
   "outputs": [],
   "source": [
    "Vx = np.linspace(min(x), max(x), 500)"
   ]
  },
  {
   "cell_type": "code",
   "execution_count": 21,
   "id": "88c2ef89-5014-41fd-9d3e-894dbfddca5c",
   "metadata": {},
   "outputs": [
    {
     "data": {
      "image/png": "[encoded data removed]",
      "text/plain": [
       "<Figure size 432x288 with 1 Axes>"
      ]
     },
     "metadata": {
      "needs_background": "light"
     },
     "output_type": "display_data"
    }
   ],
   "source": [
    "plt.plot(Vx, Pn(Vx))\n",
    "# si autre solution : plt.plot(Vx, [P(x) for x in Vx])\n",
    "plt.scatter(x , y)\n",
    "plt.show()"
   ]
  },
  {
   "cell_type": "markdown",
   "id": "15af0fe1",
   "metadata": {},
   "source": [
    "# <ins>**Avec 3 points (La Grange)**</ins>"
   ]
  },
  {
   "cell_type": "code",
   "execution_count": 29,
   "id": "ccb56343",
   "metadata": {},
   "outputs": [],
   "source": [
    "x0, y0 = 2, 2\n",
    "x1, y1 = 3, 4\n",
    "x2, y2 = 5, 4"
   ]
  },
  {
   "cell_type": "code",
   "execution_count": 30,
   "id": "a73457ca",
   "metadata": {},
   "outputs": [],
   "source": [
    "def P2(x):\n",
    "    a2 = y2 * (((x-x0)*(x-x1)) / ((x2-x0)*(x2-x1)))\n",
    "    a1 = y1 * (((x-x0)*(x-x2)) / ((x1-x0)*(x1-x2)))\n",
    "    a0 = y0 * (((x-x1)*(x-x2)) / ((x0-x1)*(x0-x2)))\n",
    "    return a2 + a1 + a0"
   ]
  },
  {
   "cell_type": "code",
   "execution_count": 31,
   "id": "52c98073",
   "metadata": {},
   "outputs": [],
   "source": [
    "Vx = np.linspace(-10, 10, 50)\n",
    "Vy = [P2(x) for x in Vx]"
   ]
  },
  {
   "cell_type": "code",
   "execution_count": 32,
   "id": "83dad888",
   "metadata": {},
   "outputs": [
    {
     "data": {
      "image/png": "[encoded data removed]",
      "text/plain": [
       "<Figure size 432x288 with 1 Axes>"
      ]
     },
     "metadata": {
      "needs_background": "light"
     },
     "output_type": "display_data"
    }
   ],
   "source": [
    "plt.plot(Vx, Vy)\n",
    "plt.scatter([x0, x1, x2], [y0, y1, y2], c='red')\n",
    "plt.show()"
   ]
  },
  {
   "cell_type": "markdown",
   "id": "52b84239",
   "metadata": {},
   "source": [
    "# <ins>**Avec N points (La Grange)**</ins>"
   ]
  },
  {
   "cell_type": "code",
   "execution_count": 70,
   "id": "0f40ff03",
   "metadata": {},
   "outputs": [],
   "source": [
    "Xi = [1, 2, 3, 4, 5, 8, 13, 15]\n",
    "Yi = [0, 5, 2, 1, 4, 4, 6, 8]\n",
    "\n",
    "n = len(Xi)"
   ]
  },
  {
   "cell_type": "code",
   "execution_count": 71,
   "id": "73d45884",
   "metadata": {},
   "outputs": [],
   "source": [
    "def Li(x, i):\n",
    "    res = 1\n",
    "    for j in range(n):\n",
    "        if (i != j):\n",
    "            res *= (x-Xi[j])/(Xi[i]-Xi[j])\n",
    "    return res\n",
    "def Qn(x):\n",
    "    res = 0\n",
    "    for i in range(n):\n",
    "        res += Yi[i]*Li(x, i)\n",
    "    return res"
   ]
  },
  {
   "cell_type": "code",
   "execution_count": 72,
   "id": "d3ecc0dc",
   "metadata": {},
   "outputs": [],
   "source": [
    "Vx = np.linspace(min(Xi), max(Xi), 100)"
   ]
  },
  {
   "cell_type": "code",
   "execution_count": 73,
   "id": "29297f5f",
   "metadata": {},
   "outputs": [
    {
     "data": {
      "image/png": "[encoded data removed]",
      "text/plain": [
       "<Figure size 432x288 with 1 Axes>"
      ]
     },
     "metadata": {
      "needs_background": "light"
     },
     "output_type": "display_data"
    }
   ],
   "source": [
    "plt.plot(Vx, Qn(Vx))\n",
    "plt.scatter(Xi, Yi, c='red')\n",
    "plt.show()"
   ]
  },
  {
   "cell_type": "code",
   "execution_count": 75,
   "id": "99d77c07",
   "metadata": {},
   "outputs": [],
   "source": [
    "import numpy as np\n",
    "import matplotlib.pyplot as plt\n",
    "from numpy.linalg import solve\n",
    "from scipy.sparse.linalg import spsolve"
   ]
  },
  {
   "cell_type": "code",
   "execution_count": 78,
   "id": "665dd08e",
   "metadata": {},
   "outputs": [
    {
     "name": "stdout",
     "output_type": "stream",
     "text": [
      "[[-2.  1.  0.  0.  0.]\n",
      " [ 1. -2.  1.  0.  0.]\n",
      " [ 0.  1. -2.  1.  0.]\n",
      " [ 0.  0.  1. -2.  1.]\n",
      " [ 0.  0.  0.  1. -2.]]\n"
     ]
    }
   ],
   "source": [
    "Nb=5\n",
    "print(np.eye(Nb,k=-1)-2*np.eye(Nb)+np.eye(Nb,k=1))"
   ]
  }
 ],
 "metadata": {
  "kernelspec": {
   "display_name": "Python 3",
   "language": "python",
   "name": "python3"
  },
  "language_info": {
   "codemirror_mode": {
    "name": "ipython",
    "version": 3
   },
   "file_extension": ".py",
   "mimetype": "text/x-python",
   "name": "python",
   "nbconvert_exporter": "python",
   "pygments_lexer": "ipython3",
   "version": "3.8.8"
  }
 },
 "nbformat": 4,
 "nbformat_minor": 5
}
