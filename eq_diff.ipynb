{
 "cells": [
  {
   "cell_type": "markdown",
   "id": "9a453f22",
   "metadata": {},
   "source": [
    "**Euler explicite**"
   ]
  },
  {
   "cell_type": "code",
   "execution_count": 2,
   "id": "669a3dab",
   "metadata": {},
   "outputs": [],
   "source": [
    "import numpy as np\n",
    "import matplotlib.pyplot as plt\n",
    "from numpy.linalg import solve\n",
    "from scipy.sparse.linalg import spsolve"
   ]
  },
  {
   "cell_type": "code",
   "execution_count": 12,
   "id": "e9c35c9f",
   "metadata": {},
   "outputs": [],
   "source": [
    "def f(t,x) : return -x\n",
    "\n",
    "def eulerExplicite(f,y0,T,N):\n",
    "    delta=T/N\n",
    "    res = np.zeros(N)\n",
    "    res[0]=y0\n",
    "    for n in range(N-1):\n",
    "        res[n+1] = res[n] + delta * f((delta*n),res[n])\n",
    "    Vx=np.linspace(0,T, N)\n",
    "    return res,Vx\n",
    "\n",
    "\n",
    "sol,Vx = eulerExplicite(f, 1,10,50)\n",
    "\n",
    "\n",
    "def solutionExacte(t): return np.exp(-t)"
   ]
  },
  {
   "cell_type": "code",
   "execution_count": 13,
   "id": "357f277f",
   "metadata": {},
   "outputs": [
    {
     "data": {
      "text/plain": [
       "[<matplotlib.lines.Line2D at 0x1aa03f6cd90>]"
      ]
     },
     "execution_count": 13,
     "metadata": {},
     "output_type": "execute_result"
    },
    {
     "data": {
      "image/png": "[encoded data removed]",
      "text/plain": [
       "<Figure size 432x288 with 1 Axes>"
      ]
     },
     "metadata": {
      "needs_background": "light"
     },
     "output_type": "display_data"
    }
   ],
   "source": [
    "plt.plot(Vx, sol, \"*r\")\n",
    "Vx1=np.linspace(0,10,100)\n",
    "plt.plot(Vx1, solutionExacte(Vx1))"
   ]
  },
  {
   "cell_type": "markdown",
   "id": "84a3dd8f",
   "metadata": {},
   "source": [
    "**Eurler implicite**"
   ]
  },
  {
   "cell_type": "code",
   "execution_count": null,
   "id": "f81533a7",
   "metadata": {},
   "outputs": [],
   "source": []
  }
 ],
 "metadata": {
  "kernelspec": {
   "display_name": "Python 3",
   "language": "python",
   "name": "python3"
  },
  "language_info": {
   "codemirror_mode": {
    "name": "ipython",
    "version": 3
   },
   "file_extension": ".py",
   "mimetype": "text/x-python",
   "name": "python",
   "nbconvert_exporter": "python",
   "pygments_lexer": "ipython3",
   "version": "3.8.8"
  }
 },
 "nbformat": 4,
 "nbformat_minor": 5
}
