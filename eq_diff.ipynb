{
 "cells": [
  {
   "cell_type": "markdown",
   "id": "9a453f22",
   "metadata": {},
   "source": [
    "**Euler explicite**"
   ]
  },
  {
   "cell_type": "code",
   "execution_count": 24,
   "id": "669a3dab",
   "metadata": {},
   "outputs": [],
   "source": [
    "import numpy as np\n",
    "import matplotlib.pyplot as plt\n",
    "import random as rd\n",
    "import scipy.integrate as sci\n",
    "import scipy as spy\n",
    "import scipy.sparse as sparse\n",
    "from numpy.linalg import solve\n",
    "from scipy.sparse.linalg import spsolve\n",
    "from scipy import interpolate\n",
    "from scipy.integrate import odeint\n",
    "from scipy.optimize import root"
   ]
  },
  {
   "cell_type": "code",
   "execution_count": 12,
   "id": "e9c35c9f",
   "metadata": {},
   "outputs": [],
   "source": [
    "def f(t,x) : return -x\n",
    "\n",
    "def eulerExplicite(f,y0,T,N):\n",
    "    delta=T/N\n",
    "    res = np.zeros(N)\n",
    "    res[0]=y0\n",
    "    for n in range(N-1):\n",
    "        res[n+1] = res[n] + delta * f((delta*n),res[n])\n",
    "    Vx=np.linspace(0,T, N)\n",
    "    return res,Vx\n",
    "\n",
    "\n",
    "sol,Vx = eulerExplicite(f, 1,10,50)\n",
    "\n",
    "\n",
    "def solutionExacte(t): return np.exp(-t)"
   ]
  },
  {
   "cell_type": "code",
   "execution_count": 18,
   "id": "8574dc62",
   "metadata": {},
   "outputs": [],
   "source": [
    "duree = 10\n",
    "Nbpoints = 20"
   ]
  },
  {
   "cell_type": "code",
   "execution_count": 13,
   "id": "357f277f",
   "metadata": {
    "scrolled": true
   },
   "outputs": [
    {
     "data": {
      "text/plain": [
       "[<matplotlib.lines.Line2D at 0x1aa03f6cd90>]"
      ]
     },
     "execution_count": 13,
     "metadata": {},
     "output_type": "execute_result"
    },
    {
     "data": {
      "image/png": "[encoded data removed]",
      "text/plain": [
       "<Figure size 432x288 with 1 Axes>"
      ]
     },
     "metadata": {
      "needs_background": "light"
     },
     "output_type": "display_data"
    }
   ],
   "source": [
    "plt.plot(Vx, sol, \"*r\")\n",
    "Vx1=np.linspace(0,10,100)\n",
    "plt.plot(Vx1, solutionExacte(Vx1))"
   ]
  },
  {
   "cell_type": "markdown",
   "id": "84a3dd8f",
   "metadata": {},
   "source": [
    "**Eurler implicite**"
   ]
  },
  {
   "cell_type": "code",
   "execution_count": 26,
   "id": "ae870cb3",
   "metadata": {},
   "outputs": [],
   "source": [
    "def EulerImpl(nbpas,f,duree,y0) :\n",
    "    dt = duree/nbpas\n",
    "    Y = np.zeros( nbpas+1 )\n",
    "    Temps = np.linspace(0,duree,nbpas+1)\n",
    "    Y[0] = y0 \n",
    "    for n in range(nbpas) :\n",
    "        def h(V): return Y[n] + dt*f(V,Temps[n+1]) - V\n",
    "        Y[n+1] = root(h,Y[n]).x\n",
    "    return Temps,Y"
   ]
  },
  {
   "cell_type": "code",
   "execution_count": 28,
   "id": "f3a3940d",
   "metadata": {},
   "outputs": [
    {
     "data": {
      "text/plain": [
       "[<matplotlib.lines.Line2D at 0x1aa046dfaf0>]"
      ]
     },
     "execution_count": 28,
     "metadata": {},
     "output_type": "execute_result"
    },
    {
     "data": {
      "image/png": "[encoded data removed]",
      "text/plain": [
       "<Figure size 432x288 with 1 Axes>"
      ]
     },
     "metadata": {
      "needs_background": "light"
     },
     "output_type": "display_data"
    }
   ],
   "source": [
    "Temps2,Y2 = EulerImpl(Nbpoints,f,duree,1)\n",
    "plt.plot(Temps2,Y2,\"*r\",marker='*',markersize=10.,label=\"Euler implicite\")\n",
    "Vx = np.linspace(0,duree,1000)\n",
    "plt.plot(Vx,solutionExacte(Vx))"
   ]
  },
  {
   "cell_type": "markdown",
   "id": "86563470",
   "metadata": {},
   "source": [
    "**Runge et Kutta**"
   ]
  },
  {
   "cell_type": "code",
   "execution_count": 29,
   "id": "a72651e3",
   "metadata": {},
   "outputs": [],
   "source": [
    "def RK4(nbpas,f,duree,y0) :\n",
    "    dt = duree/nbpas\n",
    "    Y = np.zeros( nbpas+1 )\n",
    "    Temps = np.linspace(0,duree,nbpas+1)\n",
    "    Y[0] = y0 \n",
    "    for n in range(nbpas) :\n",
    "        Yn = Y[n]\n",
    "        K1 = f(Yn,Temps[n])\n",
    "        K2 = f(Yn+dt*K1/2,Temps[n]+dt/2)\n",
    "        K3 = f(Yn+dt*K2/2,Temps[n]+dt/2)\n",
    "        K4 = f(Yn+dt*K3,Temps[n+1])\n",
    "        Y[n+1] = Yn + dt*( K1 + 2*K2 + 2*K3 + K4 )/6\n",
    "    return Temps,Y"
   ]
  }
 ],
 "metadata": {
  "kernelspec": {
   "display_name": "Python 3",
   "language": "python",
   "name": "python3"
  },
  "language_info": {
   "codemirror_mode": {
    "name": "ipython",
    "version": 3
   },
   "file_extension": ".py",
   "mimetype": "text/x-python",
   "name": "python",
   "nbconvert_exporter": "python",
   "pygments_lexer": "ipython3",
   "version": "3.8.8"
  }
 },
 "nbformat": 4,
 "nbformat_minor": 5
}
