{
 "cells": [
  {
   "cell_type": "code",
   "execution_count": 11,
   "metadata": {},
   "outputs": [],
   "source": [
    "import numpy as np\n",
    "import matplotlib.pyplot as plt\n",
    "import random as rd\n",
    "import scipy.integrate as sci\n",
    "import scipy as spy\n",
    "import scipy.sparse as sparse\n",
    "from numpy.linalg import solve\n",
    "from scipy.sparse.linalg import spsolve\n",
    "from scipy import interpolate\n",
    "from scipy.optimize import root\n",
    "from random import *"
   ]
  },
  {
   "cell_type": "markdown",
   "metadata": {},
   "source": [
    "# Newton 1D"
   ]
  },
  {
   "cell_type": "code",
   "execution_count": 3,
   "metadata": {},
   "outputs": [],
   "source": [
    "def f(x): return np.sin(x)\n",
    "\n",
    "def fp(x): return np.cos(x)"
   ]
  },
  {
   "cell_type": "code",
   "execution_count": 4,
   "metadata": {},
   "outputs": [
    {
     "data": {
      "text/plain": [
       "[<matplotlib.lines.Line2D at 0x7fd7e025c208>]"
      ]
     },
     "execution_count": 4,
     "metadata": {},
     "output_type": "execute_result"
    },
    {
     "data": {
      "image/png": "[encoded data removed]",
      "text/plain": [
       "<Figure size 432x288 with 1 Axes>"
      ]
     },
     "metadata": {
      "needs_background": "light"
     },
     "output_type": "display_data"
    }
   ],
   "source": [
    "Vx = np.linspace(0,10,1000)\n",
    "plt.plot(Vx,f(Vx),\"-r\")"
   ]
  },
  {
   "cell_type": "code",
   "execution_count": 5,
   "metadata": {},
   "outputs": [],
   "source": [
    "def Dichotomie(f,a,b,Nb) :\n",
    "    x=np.zeros(Nb+1)\n",
    "    y=np.zeros(Nb+1)\n",
    "    x[0] = a\n",
    "    y[0] = b\n",
    "    for n in range(Nb):\n",
    "        c = (x[n] + y[n])/2\n",
    "        if f(x[n])*f(c)<0:\n",
    "            x[n+1]=x[n]\n",
    "            y[n+1]=c\n",
    "        if f(c)*f(y[n])<0:\n",
    "            x[n+1]=c\n",
    "            y[n+1]=y[n]\n",
    "    return x[-1]"
   ]
  },
  {
   "cell_type": "code",
   "execution_count": 10,
   "metadata": {},
   "outputs": [
    {
     "name": "stdout",
     "output_type": "stream",
     "text": [
      "3.139657346410207\n",
      "[-0.14159265358979312, -0.016592653589793116, -0.000967653589793116]\n"
     ]
    }
   ],
   "source": [
    "print(Dichotomie(f,6,7,5)-np.pi)\n",
    "print([Dichotomie(f,3,4,N)-np.pi for N in [2,5,8]])\n"
   ]
  },
  {
   "cell_type": "code",
   "execution_count": 19,
   "metadata": {},
   "outputs": [],
   "source": [
    "def f(x): return np.sin(x)\n",
    "\n",
    "def fp(x): return np.cos(x)"
   ]
  },
  {
   "cell_type": "code",
   "execution_count": 20,
   "metadata": {},
   "outputs": [],
   "source": [
    "def Newton(f,fp,x0,Nb) :\n",
    "    xn=x0\n",
    "    for i in range(Nb):\n",
    "        xnp1 = xn -f(xn)/fp(xn)\n",
    "        xn = xnp1\n",
    "    return xn"
   ]
  },
  {
   "cell_type": "code",
   "execution_count": 21,
   "metadata": {},
   "outputs": [],
   "source": [
    "def Newton1(f,fp,x0,Nb) :\n",
    "    x=np.zeros(Nb+1)\n",
    "    x[0] = x0\n",
    "    for n in range(Nb):\n",
    "        x[n+1] = x[n] -f(x[n])/fp(x[n])\n",
    "    return x[-1]"
   ]
  },
  {
   "cell_type": "code",
   "execution_count": 23,
   "metadata": {},
   "outputs": [
    {
     "name": "stdout",
     "output_type": "stream",
     "text": [
      "3.1415926536808043\n",
      "0.0\n",
      "-47.1238898038469\n",
      "-91.106186954104\n",
      "-1253.4954687823274\n",
      "109.95574287564277\n",
      "53.40707511102649\n",
      "[-1.1415926535897931, 1.0434472096717258, -0.6736989790751271, 0.12459362397931306, -0.00064874127215786, 9.101119857746198e-11, 0.0]\n"
     ]
    }
   ],
   "source": [
    "print(Newton(f,fp,2,5))\n",
    "#print(Newton1(f,fp,2,5))\n",
    "\n",
    "print(Newton(f,fp,1,5))\n",
    "print(Newton(f,fp,1.55,5))\n",
    "print(Newton(f,fp,1.56,5))\n",
    "print(Newton(f,fp,1.57,5))\n",
    "print(Newton(f,fp,1.58,5))\n",
    "print(Newton(f,fp,1.59,5))\n",
    "\n",
    "print([Newton(f,fp,2,N)-np.pi for N in range(7)])"
   ]
  },
  {
   "cell_type": "markdown",
   "metadata": {},
   "source": [
    "# Newton 2D"
   ]
  },
  {
   "cell_type": "code",
   "execution_count": 35,
   "metadata": {},
   "outputs": [],
   "source": [
    "def f2D(X): return [X[0]*X[0]+X[1]*X[1]-2,X[0]*X[0]-X[1]*X[1]-1]\n",
    "\n",
    "def Df2D(X): return ([[2*X[0],2*X[1]],[2*X[0],-2*X[1] ]])\n"
   ]
  },
  {
   "cell_type": "code",
   "execution_count": 31,
   "metadata": {},
   "outputs": [],
   "source": [
    "def Newton2D(f,Df,X0,Nb) :\n",
    "    Xn=X0\n",
    "    for i in range(Nb):\n",
    "        Xnp1 = Xn -np.linalg.inv(Df(Xn)).dot(f(Xn))\n",
    "        Xn = Xnp1\n",
    "    return Xn"
   ]
  },
  {
   "cell_type": "code",
   "execution_count": 43,
   "metadata": {},
   "outputs": [
    {
     "name": "stdout",
     "output_type": "stream",
     "text": [
      "[0.00025513 0.00122655]\n",
      "[-1.22474487  0.70710678]\n",
      "[-1.22474487 -0.70710678]\n",
      "[ 1.22474487 -0.70710678]\n",
      "[1.22474487 0.70710678]\n",
      "[array([-0.22474487,  0.29289322]), array([0.02525513, 0.04289322]), array([0.00025513, 0.00122655]), array([2.65675948e-08, 1.06195071e-06]), array([4.44089210e-16, 7.97362176e-13]), array([0., 0.])]\n"
     ]
    }
   ],
   "source": [
    "print(Newton2D(f2D,Df2D,np.array([1,1]),2)-[np.sqrt(3/2),np.sqrt(1/2)])\n",
    "print(Newton2D(f2D,Df2D,np.array([-1,1]),20))\n",
    "print(Newton2D(f2D,Df2D,np.array([-1,-1]),20))\n",
    "print(Newton2D(f2D,Df2D,np.array([1,-1]),20))\n",
    "print(Newton2D(f2D,Df2D,np.array([0.001,0.001]),20))\n",
    "\n",
    "\n",
    "\n",
    "print([Newton2D(f2D,Df2D,np.array([1,1]),N)-[np.sqrt(3/2),np.sqrt(1/2)] for N in range(6)])"
   ]
  },
  {
   "cell_type": "code",
   "execution_count": null,
   "metadata": {},
   "outputs": [],
   "source": []
  }
 ],
 "metadata": {
  "kernelspec": {
   "display_name": "Python 3",
   "language": "python",
   "name": "python3"
  },
  "language_info": {
   "codemirror_mode": {
    "name": "ipython",
    "version": 3
   },
   "file_extension": ".py",
   "mimetype": "text/x-python",
   "name": "python",
   "nbconvert_exporter": "python",
   "pygments_lexer": "ipython3",
   "version": "3.6.9"
  }
 },
 "nbformat": 4,
 "nbformat_minor": 2
}
