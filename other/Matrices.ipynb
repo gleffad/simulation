{
 "cells": [
  {
   "cell_type": "code",
   "execution_count": 7,
   "metadata": {},
   "outputs": [],
   "source": [
    "import numpy as np\n",
    "import matplotlib.pyplot as plt\n",
    "from numpy.linalg import solve\n",
    "from scipy.sparse.linalg import spsolve"
   ]
  },
  {
   "cell_type": "code",
   "execution_count": 8,
   "metadata": {},
   "outputs": [
    {
     "name": "stdout",
     "output_type": "stream",
     "text": [
      "[[-2.  1.  0.  0.  0.]\n",
      " [ 1. -2.  1.  0.  0.]\n",
      " [ 0.  1. -2.  1.  0.]\n",
      " [ 0.  0.  1. -2.  1.]\n",
      " [ 0.  0.  0.  1. -2.]]\n"
     ]
    }
   ],
   "source": [
    "Nb=5\n",
    "print(np.eye(Nb,k=-1)-2*np.eye(Nb)+np.eye(Nb,k=1))"
   ]
  },
  {
   "cell_type": "markdown",
   "metadata": {},
   "source": [
    "# Comparaison matrice creuse/pleine en memoire et temps "
   ]
  },
  {
   "cell_type": "code",
   "execution_count": 9,
   "metadata": {},
   "outputs": [
    {
     "name": "stdout",
     "output_type": "stream",
     "text": [
      "++++++++ Matrice pleine ++++++++\n",
      "Dimensions de Adense : (10000, 10000) ; taille mémoire : 800000000 octets\n",
      "++++++++ Matrice creuse ++++++++\n",
      "Une matrice creuse est stockée sous forme de 3 vecteurs\n",
      "\tAcreuse.indices de dimension (29998,)\n",
      "\tAcreuse.indptr de dimension (10001,)\n",
      "\tAcreuse.data de dimension (29998,)\n",
      "Dimensions de Acreuse : (10000, 10000) ; taille mémoire : 399980 octets\n",
      "Ratio memoire: 2000.1000050002501\n",
      "--- 2.184828996658325 seconds ---\n",
      "--- 0.014322757720947266 seconds ---\n",
      "Ratio temps  152.5424809401738\n"
     ]
    }
   ],
   "source": [
    "import time\n",
    "import scipy.sparse as sparse\n",
    "Nb = 10**4\n",
    "print(\"++++++++ Matrice pleine ++++++++\")\n",
    "Adense = np.eye(Nb,k=-1)-2*np.eye(Nb)+np.eye(Nb,k=1)\n",
    "print(\"Dimensions de Adense :\",Adense.shape,\"; taille mémoire :\",\n",
    "      Adense.nbytes,\"octets\")\n",
    "print(\"++++++++ Matrice creuse ++++++++\")\n",
    "Acreuse = sparse.eye(Nb,k=-1)-2*sparse.eye(Nb)+sparse.eye(Nb,k=1)\n",
    "print(\"Une matrice creuse est stockée sous forme de 3 vecteurs\")\n",
    "print(\"\\tAcreuse.indices de dimension\",Acreuse.indices.shape)\n",
    "print(\"\\tAcreuse.indptr de dimension\",Acreuse.indptr.shape)\n",
    "print(\"\\tAcreuse.data de dimension\",Acreuse.data.shape)\n",
    "taille = Acreuse.indices.nbytes + Acreuse.indptr.nbytes + Acreuse.data.nbytes\n",
    "print(\"Dimensions de Acreuse :\",Acreuse.shape,\"; taille mémoire :\",\n",
    "      taille,\"octets\")\n",
    "print(\"Ratio memoire:\",Adense.nbytes/taille)\n",
    "bdense = np.ones(Nb)\n",
    "\n",
    "\n",
    "\n",
    "start_time = time.time()\n",
    "x1 = solve(Adense,bdense)\n",
    "time_dense = time.time() - start_time\n",
    "print(\"--- %s seconds ---\" % (time_dense))\n",
    "start_time = time.time()\n",
    "x2 = spsolve(Acreuse,bdense)\n",
    "time_creux = time.time() - start_time\n",
    "print(\"--- %s seconds ---\" % (time_creux))\n",
    "print(\"Ratio temps \",time_dense/time_creux)\n"
   ]
  },
  {
   "cell_type": "markdown",
   "metadata": {},
   "source": [
    "# Inversion matrice creuse avec Nb = 10^7"
   ]
  },
  {
   "cell_type": "code",
   "execution_count": 10,
   "metadata": {},
   "outputs": [
    {
     "name": "stdout",
     "output_type": "stream",
     "text": [
      "--- 5.038474082946777 seconds ---\n"
     ]
    }
   ],
   "source": [
    "Nb = 10**7\n",
    "Acreuse = sparse.eye(Nb,k=-1)-2*sparse.eye(Nb)+sparse.eye(Nb,k=1)\n",
    "bdense = np.ones(Nb)\n",
    "start_time = time.time()\n",
    "x2 = spsolve(Acreuse,bdense)\n",
    "time_creux = time.time() - start_time\n",
    "print(\"--- %s seconds ---\" % (time_creux))"
   ]
  },
  {
   "cell_type": "code",
   "execution_count": null,
   "metadata": {},
   "outputs": [],
   "source": []
  },
  {
   "cell_type": "code",
   "execution_count": null,
   "metadata": {},
   "outputs": [],
   "source": []
  }
 ],
 "metadata": {
  "kernelspec": {
   "display_name": "Python 3",
   "language": "python",
   "name": "python3"
  }
 },
 "nbformat": 4,
 "nbformat_minor": 2
}
