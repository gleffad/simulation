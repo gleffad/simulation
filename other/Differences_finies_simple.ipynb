{
 "cells": [
  {
   "cell_type": "code",
   "execution_count": 42,
   "metadata": {},
   "outputs": [],
   "source": [
    "import numpy as np\n",
    "import matplotlib.pyplot as plt\n",
    "import random as rd\n",
    "import scipy.integrate as sci\n",
    "import scipy as spy\n",
    "import scipy.sparse as sparse\n",
    "from numpy.linalg import solve\n",
    "from scipy.sparse.linalg import spsolve\n",
    "from scipy import interpolate\n",
    "from scipy.integrate import odeint\n",
    "from scipy.optimize import root\n",
    "import scipy.sparse as sparse"
   ]
  },
  {
   "cell_type": "code",
   "execution_count": 43,
   "metadata": {},
   "outputs": [],
   "source": [
    "def EDOcondlimites(Nx,Tg,Td,L) :\n",
    "    res = np.zeros( Nx+1 )\n",
    "    Espace = np.linspace(0,L,Nx+1) \n",
    "    dx = L/Nx\n",
    "    alpha = 1/dx**2\n",
    "    A = np.zeros((Nx+1,Nx+1))\n",
    "    b = np.zeros(Nx+1)\n",
    "    A[0,0] = 1\n",
    "    A[-1,-1] = 1\n",
    "    for i in range(1,Nx):\n",
    "        A[i,i-1] = 1*alpha\n",
    "        A[i,i ] = -2*alpha\n",
    "        A[i,i+1] = 1*alpha\n",
    "    b = source(Espace) \n",
    "    b[0] = Tg\n",
    "    b[-1] = Td\n",
    "    res = solve(A,b)\n",
    "    return res, Espace"
   ]
  },
  {
   "cell_type": "code",
   "execution_count": 44,
   "metadata": {},
   "outputs": [],
   "source": [
    "def source(x) : return -0.01*x**2"
   ]
  },
  {
   "cell_type": "code",
   "execution_count": 45,
   "metadata": {},
   "outputs": [],
   "source": [
    "L = 10\n",
    "Tg = 20.0\n",
    "Td = 18.0"
   ]
  },
  {
   "cell_type": "code",
   "execution_count": 46,
   "metadata": {},
   "outputs": [
    {
     "data": {
      "text/plain": [
       "<matplotlib.legend.Legend at 0x7f81f075b828>"
      ]
     },
     "execution_count": 46,
     "metadata": {},
     "output_type": "execute_result"
    },
    {
     "data": {
      "image/png": "[encoded data removed]",
      "text/plain": [
       "<Figure size 432x288 with 1 Axes>"
      ]
     },
     "metadata": {
      "needs_background": "light"
     },
     "output_type": "display_data"
    }
   ],
   "source": [
    "R1, Espace1 = EDOcondlimites(500,Tg,Td,L)\n",
    "plt.plot(Espace1,R1,\"og\",label=\"edo avec cond limites\")\n",
    "plt.legend()"
   ]
  },
  {
   "cell_type": "code",
   "execution_count": null,
   "metadata": {},
   "outputs": [],
   "source": []
  }
 ],
 "metadata": {
  "kernelspec": {
   "display_name": "Python 3",
   "language": "python",
   "name": "python3"
  },
  "language_info": {
   "codemirror_mode": {
    "name": "ipython",
    "version": 3
   },
   "file_extension": ".py",
   "mimetype": "text/x-python",
   "name": "python",
   "nbconvert_exporter": "python",
   "pygments_lexer": "ipython3",
   "version": "3.6.9"
  }
 },
 "nbformat": 4,
 "nbformat_minor": 2
}
